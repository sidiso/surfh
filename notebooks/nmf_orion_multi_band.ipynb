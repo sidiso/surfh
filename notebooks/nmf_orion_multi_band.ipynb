{
 "cells": [
  {
   "cell_type": "code",
   "execution_count": 1,
   "metadata": {},
   "outputs": [],
   "source": [
    "import numpy as np\n",
    "from astropy.io import fits\n",
    "from loguru import logger\n",
    "from pathlib import Path\n",
    "\n",
    "from surfh.Models import instru\n",
    "\n",
    "from sklearn.decomposition import PCA\n",
    "from sklearn.preprocessing import StandardScaler\n",
    "import matplotlib.pyplot as plt\n",
    "from scipy import ndimage\n",
    "\n",
    "from sklearn.decomposition import NMF\n",
    "from einops import rearrange\n",
    "from surfh.Models import wavelength_mrs\n",
    "from surfh.Simulation import simulation_data\n",
    "from matplotlib.widgets import Slider\n"
   ]
  },
  {
   "cell_type": "code",
   "execution_count": 3,
   "metadata": {},
   "outputs": [],
   "source": [
    "def plot_cube(cube, wavelength_cube):\n",
    "    \n",
    "    if cube.shape[0] != 4:\n",
    "        idx = np.where(np.sum(cube, axis=(1,2)) != 0)[0]\n",
    "        nzero_slice = slice(idx[0], idx[-1])\n",
    "        print(nzero_slice)\n",
    "        cube = cube[nzero_slice, ...]\n",
    "        wavelength_cube = wavelength_cube[nzero_slice]\n",
    "\n",
    "    # Initial lambda index\n",
    "    initial_lambda = 0\n",
    "    nLambda = cube.shape[0]\n",
    "\n",
    "    # Create a figure and axis\n",
    "    fig, ax = plt.subplots()\n",
    "    plt.subplots_adjust(left=0.1, bottom=0.25)  # Adjust the subplot to make space for the slider\n",
    "\n",
    "    # Display the initial slice\n",
    "    slice_plot = ax.imshow(cube[initial_lambda, :, :], cmap='viridis')\n",
    "    ax.set_title(f'Lambda slice: {initial_lambda}')\n",
    "    ax.plot(7,20,'.')\n",
    "    ax.plot(37,10,'.')\n",
    "    ax.plot(14,44,'.')\n",
    "    ax.plot(40,31,'.')    \n",
    "    # Add a colorbar\n",
    "    cbar = plt.colorbar(slice_plot, ax=ax)\n",
    "\n",
    "    # Create the slider axis and slider\n",
    "    ax_slider = plt.axes([0.1, 0.1, 0.8, 0.05], facecolor='lightgoldenrodyellow')\n",
    "    slider = Slider(ax_slider, 'Lambda', 0, nLambda - 1, valinit=initial_lambda, valstep=1)\n",
    "\n",
    "    # Update function to be called when the slider is changed\n",
    "    def update(val):\n",
    "        lambda_index = int(slider.val)\n",
    "        # Update the image data\n",
    "        new_slice = cube[lambda_index, :, :]\n",
    "        slice_plot.set_data(new_slice)\n",
    "        \n",
    "        # Update the color limits for the current slice\n",
    "        slice_plot.set_clim(vmin=np.min(new_slice), vmax=np.max(new_slice))\n",
    "\n",
    "        # Redraw the colorbar with the new limits\n",
    "        cbar.update_normal(slice_plot)\n",
    "\n",
    "        # Update the title to show the current lambda slice\n",
    "        ax.set_title(f'Lambda slice: {wavelength_cube[lambda_index]}')\n",
    "        \n",
    "        # Redraw the figure canvas\n",
    "        fig.canvas.draw_idle()\n",
    "\n",
    "    # Attach the update function to the slider\n",
    "    slider.on_changed(update)\n",
    "\n",
    "    plt.show()"
   ]
  },
  {
   "cell_type": "code",
   "execution_count": 18,
   "metadata": {},
   "outputs": [
    {
     "name": "stdout",
     "output_type": "stream",
     "text": [
      "Using matplotlib backend: TkAgg\n"
     ]
    },
    {
     "data": {
      "text/plain": [
       "[<matplotlib.lines.Line2D at 0x7fd2628981f0>]"
      ]
     },
     "execution_count": 18,
     "metadata": {},
     "output_type": "execute_result"
    }
   ],
   "source": [
    "hdul = fits.open('/home/nmonnier/Data/JWST/Orion_bar/Fusion/ChannelCube_ch1-2-shortmediumlong_s3d.fits')\n",
    "data_cube = hdul[1].data\n",
    "raw_data_cube = hdul[1].data\n",
    "hdr = hdul[1].header\n",
    "wavel = np.array(hdul[5].data[0])[0,:,0]\n",
    "\n",
    "\n",
    "coords = [(8,13), (8,38), (40,38), (40,13)]\n",
    "\n",
    "from scipy.ndimage import rotate\n",
    "\n",
    "angle = -20  # angle en degrés\n",
    "\n",
    "# Créer un nouveau cube pour stocker les résultats\n",
    "rotated_cube = np.empty_like(raw_data_cube)\n",
    "raw_data_cube[np.isnan(raw_data_cube)] = 0\n",
    "# Appliquer la rotation pour chaque tranche spectrale\n",
    "for i in range(raw_data_cube.shape[0]):\n",
    "    # Appliquer la rotation en 2D en gardant le centre de la tranche comme centre de rotation\n",
    "    rotated_cube[i] = rotate(raw_data_cube[i], angle=angle, reshape=False, axes=(1, 0), order=3, mode='nearest')\n",
    "\n",
    "masked_array = rotated_cube[:,13:38,8:40]\n",
    "\n",
    "\n",
    "plt.figure()\n",
    "plt.imshow(masked_array[100])\n",
    "plt.title(\"Rotated cube\")\n",
    "plt.show()\n",
    "\n",
    "\n",
    "masked_array_fitlered_data_cube = ndimage.median_filter(masked_array.copy(), size=15, axes=[0])\n",
    "\n",
    "data = rearrange(data_cube, 'L I J -> (I J) L') # from spectro data\n",
    "masked_array_fitlered_data = rearrange(masked_array_fitlered_data_cube, 'L I J -> (I J) L') # from spectro data\n",
    "plt.figure()\n",
    "plt.plot(wavel, np.mean(masked_array, axis=(1,2)))\n",
    "plt.figure()\n",
    "plt.plot(wavel, np.mean(masked_array_fitlered_data_cube, axis=(1,2)))\n",
    "\n"
   ]
  },
  {
   "cell_type": "code",
   "execution_count": 11,
   "metadata": {},
   "outputs": [
    {
     "name": "stdout",
     "output_type": "stream",
     "text": [
      "Using matplotlib backend: TkAgg\n",
      "slice(0, 6314, None)\n",
      "slice(0, 6314, None)\n"
     ]
    }
   ],
   "source": [
    "%matplotlib\n",
    "\n",
    "\n",
    "plot_cube(raw_data_cube, wavel)\n",
    "plot_cube(masked_array, wavel)\n",
    "\n"
   ]
  },
  {
   "cell_type": "code",
   "execution_count": 19,
   "metadata": {},
   "outputs": [
    {
     "name": "stderr",
     "output_type": "stream",
     "text": [
      "/home/nmonnier/anaconda3/envs/surfh/lib/python3.10/site-packages/sklearn/decomposition/_nmf.py:1759: ConvergenceWarning: Maximum number of iterations 200 reached. Increase it to improve convergence.\n",
      "  warnings.warn(\n",
      "/home/nmonnier/anaconda3/envs/surfh/lib/python3.10/site-packages/sklearn/decomposition/_nmf.py:1759: ConvergenceWarning: Maximum number of iterations 200 reached. Increase it to improve convergence.\n",
      "  warnings.warn(\n",
      "/home/nmonnier/anaconda3/envs/surfh/lib/python3.10/site-packages/sklearn/decomposition/_nmf.py:1759: ConvergenceWarning: Maximum number of iterations 200 reached. Increase it to improve convergence.\n",
      "  warnings.warn(\n",
      "/home/nmonnier/anaconda3/envs/surfh/lib/python3.10/site-packages/sklearn/decomposition/_nmf.py:1759: ConvergenceWarning: Maximum number of iterations 200 reached. Increase it to improve convergence.\n",
      "  warnings.warn(\n",
      "/home/nmonnier/anaconda3/envs/surfh/lib/python3.10/site-packages/sklearn/decomposition/_nmf.py:1759: ConvergenceWarning: Maximum number of iterations 200 reached. Increase it to improve convergence.\n",
      "  warnings.warn(\n",
      "/home/nmonnier/anaconda3/envs/surfh/lib/python3.10/site-packages/sklearn/decomposition/_nmf.py:1759: ConvergenceWarning: Maximum number of iterations 200 reached. Increase it to improve convergence.\n",
      "  warnings.warn(\n",
      "/home/nmonnier/anaconda3/envs/surfh/lib/python3.10/site-packages/sklearn/decomposition/_nmf.py:1759: ConvergenceWarning: Maximum number of iterations 200 reached. Increase it to improve convergence.\n",
      "  warnings.warn(\n",
      "/home/nmonnier/anaconda3/envs/surfh/lib/python3.10/site-packages/sklearn/decomposition/_nmf.py:1759: ConvergenceWarning: Maximum number of iterations 200 reached. Increase it to improve convergence.\n",
      "  warnings.warn(\n",
      "/home/nmonnier/anaconda3/envs/surfh/lib/python3.10/site-packages/sklearn/decomposition/_nmf.py:1759: ConvergenceWarning: Maximum number of iterations 200 reached. Increase it to improve convergence.\n",
      "  warnings.warn(\n",
      "/home/nmonnier/anaconda3/envs/surfh/lib/python3.10/site-packages/sklearn/decomposition/_nmf.py:1759: ConvergenceWarning: Maximum number of iterations 200 reached. Increase it to improve convergence.\n",
      "  warnings.warn(\n"
     ]
    }
   ],
   "source": [
    "# Range of components to test\n",
    "component_range = range(1, 12)  # Adjust based on how many tests you want to run\n",
    "￼\n",
    "# List to store the reconstruction errors\n",
    "reconstruction_errors = []\n",
    "mre_reconstruction_errors = []\n",
    "\n",
    "# Compute NMF for different numbers of components and calculate the reconstruction errors\n",
    "for n_components in component_range:\n",
    "    nmf = NMF(n_components=n_components, init='random', random_state=42)\n",
    "    W = nmf.fit_transform(masked_array_fitlered_data)  # W is the weight matrix\n",
    "    H = nmf.components_          # H is the feature matrix (components)\n",
    "    reconstructed = W @ H        # Reconstruct the original matrix\n",
    "    error = np.linalg.norm(masked_array_fitlered_data - reconstructed)  # Frobenius norm\n",
    "    mre_error = np.mean(np.divide((masked_array_fitlered_data-reconstructed), masked_array_fitlered_data, out=np.zeros_like(masked_array_fitlered_data), where=masked_array_fitlered_data!=0))\n",
    "\n",
    "    reconstruction_errors.append(error)\n",
    "    mre_reconstruction_errors.append(np.abs(mre_error))\n",
    "\n",
    "# Plotting the reconstruction errors\n",
    "plt.figure(figsize=(10, 5))\n",
    "plt.plot(component_range, reconstruction_errors, marker='o')\n",
    "plt.title('Reconstruction Errors by Number of Components')\n",
    "plt.xlabel('Number of Components')\n",
    "plt.ylabel('Reconstruction Error')\n",
    "plt.grid(True)\n",
    "\n",
    "# Plotting the reconstruction errors\n",
    "plt.figure(figsize=(10, 5))\n",
    "plt.plot(component_range, mre_reconstruction_errors, marker='o')\n",
    "plt.title('Mean relative error Reconstruction Errors by Number of Components')\n",
    "plt.xlabel('Number of Components')\n",
    "plt.ylabel('MRE')\n",
    "plt.grid(True)"
   ]
  },
  {
   "cell_type": "code",
   "execution_count": 27,
   "metadata": {},
   "outputs": [
    {
     "data": {
      "text/plain": [
       "<matplotlib.legend.Legend at 0x7fd278f0c670>"
      ]
     },
     "execution_count": 27,
     "metadata": {},
     "output_type": "execute_result"
    }
   ],
   "source": [
    "from sklearn.decomposition import NMF\n",
    "\n",
    "# Initialize NMF with the desired number of components\n",
    "nmf = NMF(n_components=6, init='random', random_state=0, max_iter=1000)\n",
    "\n",
    "# Fit NMF model to your data\n",
    "nmf.fit(masked_array_fitlered_data)\n",
    "\n",
    "# Extract the components (eigenvectors)\n",
    "components = nmf.components_\n",
    "\n",
    "plt.figure()\n",
    "for i in range(components.shape[0]):\n",
    "    plt.plot(wavel, components[i], label=i)\n",
    "plt.xticks(fontsize=20)\n",
    "plt.yticks(fontsize=20)\n",
    "plt.xlabel(\"Wavelength\", fontsize=22)\n",
    "plt.legend()\n",
    " \n",
    "\n",
    "\n",
    "\n",
    "plt.figure()\n",
    "scale_f = np.max(np.mean(masked_array_fitlered_data_cube, axis=(1,2)))/np.max(np.mean(components, axis=0))\n",
    "#scale_f = np.mean(fitlered_data_cube, axis=(1,2))[-1]/np.mean(components, axis=0)[-1]\n",
    "\n",
    "plt.plot(wavel, np.mean(components, axis=0)*scale_f, label='templates')\n",
    "plt.plot(wavel, np.mean(masked_array_fitlered_data_cube, axis=(1,2)), label='real data')\n",
    "plt.legend()\n"
   ]
  },
  {
   "cell_type": "code",
   "execution_count": 19,
   "metadata": {},
   "outputs": [
    {
     "data": {
      "text/plain": [
       "[<matplotlib.lines.Line2D at 0x7fc49d1ff2b0>]"
      ]
     },
     "execution_count": 19,
     "metadata": {},
     "output_type": "execute_result"
    },
    {
     "data": {
      "image/png": "[encoded data removed]",
      "text/plain": [
       "<Figure size 432x288 with 1 Axes>"
      ]
     },
     "metadata": {
      "needs_background": "light"
     },
     "output_type": "display_data"
    }
   ],
   "source": [
    "plt.plot(wavel, '.')"
   ]
  },
  {
   "cell_type": "code",
   "execution_count": 6,
   "metadata": {},
   "outputs": [
    {
     "name": "stdout",
     "output_type": "stream",
     "text": [
      "[40 44 48 52 56 60 64 68 72 76]\n",
      "(6, 1578)\n"
     ]
    },
    {
     "data": {
      "image/png": "[encoded data removed]",
      "text/plain": [
       "<Figure size 432x288 with 1 Axes>"
      ]
     },
     "metadata": {
      "needs_background": "light"
     },
     "output_type": "display_data"
    },
    {
     "data": {
      "image/png": "[encoded data removed]",
      "text/plain": [
       "<Figure size 432x288 with 1 Axes>"
      ]
     },
     "metadata": {
      "needs_background": "light"
     },
     "output_type": "display_data"
    }
   ],
   "source": [
    "from scipy.optimize import curve_fit\n",
    "\n",
    "def second_order_function(x, A, B, C):\n",
    "    return A + B*x**2 + C*x\n",
    "\n",
    "def third_order_function(x, A, B, C, D):\n",
    "    return A + D*x**3 + B*x**2 + C*x\n",
    "\n",
    "\n",
    "def exponential(x, A, B, C):\n",
    "    return A + B*np.exp(C*x)\n",
    "\n",
    "def cos_func(x, D, E, A):\n",
    "    y = A + D*np.cos(E*x)\n",
    "    return y\n",
    "\n",
    "\n",
    "xdata = np.arange(len(wavel))\n",
    "ydata = wavel\n",
    "parameters, covariance = curve_fit(third_order_function, xdata, ydata)\n",
    "fit_D = parameters[0]\n",
    "fit_G = parameters[1]\n",
    "fit_1 = parameters[2]\n",
    "fit_2 = parameters[3]\n",
    "\n",
    "\n",
    "fit_cosine = third_order_function(xdata, fit_D, fit_G, fit_1, fit_2)\n",
    "plt.plot(xdata, ydata, 'o', label='data')\n",
    "plt.plot(xdata, fit_cosine, '-', label='fit')\n",
    "\n",
    "\n",
    "def downsample_interpolation(vector, target_size):\n",
    "    x_old = np.linspace(0, 1, len(vector))\n",
    "    x_new = np.linspace(0, 1, target_size)\n",
    "    return np.interp(x_new, x_old, vector)\n",
    "\n",
    "#wavel_axis = np.linspace(wavel.min(), wavel.max(), len(wavel)-1)\n",
    "\n",
    "test = downsample_interpolation(np.arange(len(wavel)), len(wavel)//4)\n",
    "print((test[10:20].astype(int)))\n",
    "subsampled_interpn = np.zeros((components.shape[0], len(test)))\n",
    "\n",
    "for i in range(components.shape[0]):\n",
    "    subsampled_interpn[i] = third_order_function(test.astype(int), fit_D, fit_G, fit_1, fit_2)\n",
    "\n",
    "wavel_axis = third_order_function(test.astype(int), fit_D, fit_G, fit_1, fit_2)\n",
    "plt.figure()\n",
    "plt.plot(wavel_axis, '-', label='fit')\n",
    "plt.plot(wavel, '.', label='raw')\n",
    "plt.legend()\n",
    "\n",
    "subsampled_interpn = np.zeros((components.shape[0], len(test)))\n",
    "\n",
    "for i in range(components.shape[0]):\n",
    "    subsampled_interpn[i] = np.interp(wavel_axis, wavel, components[i])\n",
    "\n",
    "\n",
    "print(subsampled_interpn.shape)"
   ]
  },
  {
   "cell_type": "code",
   "execution_count": 14,
   "metadata": {},
   "outputs": [
    {
     "name": "stdout",
     "output_type": "stream",
     "text": [
      "[20 22 24 26 28 30 32 34 36 38]\n"
     ]
    }
   ],
   "source": [
    "\n",
    "# for i in range(components.shape[0]):\n",
    "#     subsampled_interpn[i] = downsample_interpolation(components[i], len(wavel_axis))\n",
    "\n"
   ]
  },
  {
   "cell_type": "code",
   "execution_count": 12,
   "metadata": {},
   "outputs": [
    {
     "name": "stdout",
     "output_type": "stream",
     "text": [
      "3157\n"
     ]
    }
   ],
   "source": [
    "def reduce_vector_to_shape(vector, target_shape):\n",
    "    \"\"\"\n",
    "    Reduce a vector by randomly removing elements to reach the specified target shape.\\n\",\n",
    "    \\n\",\n",
    "    Parameters:\\n\",\n",
    "    vector (np.ndarray): The input vector to reduce.\\n\",\n",
    "    target_shape (int): The target length of the vector.\\n\",\n",
    "    \\n\",\n",
    "    Returns:\\n\",\n",
    "    np.ndarray: The reduced vector.\\n\",\n",
    "    \"\"\"\n",
    "    original_shape = vector.shape[0]\n",
    " \n",
    "    first_subsampled_factor = original_shape//target_shape\n",
    "    tmp_vector = vector[::first_subsampled_factor]\n",
    "    tmp_shape = tmp_vector.shape[0\n",
    "                          ]\n",
    "    # Ensure the target shape is smaller than the original shape\\n\",\n",
    "    if target_shape >= original_shape:\n",
    "        raise ValueError(\"Target shape must be smaller than the original vector length.\")\n",
    "\n",
    "    # Determine how many elements to remove\\n\",\n",
    "    num_elements_to_remove = tmp_shape - target_shape\n",
    "    # Randomly select indices to remove\\n\",\n",
    "    indices_to_remove = np.random.choice(tmp_shape, num_elements_to_remove, replace=False)\n",
    "    # Remove the selected elements\\n\",\n",
    "    reduced_vector = np.delete(tmp_vector, indices_to_remove)\n",
    "    return reduced_vector\n",
    "\n",
    "subsampled_components = np.zeros((components.shape[0], len(wavel_axis)))\n",
    "print(len(wavel_axis))\n",
    "\n",
    "for i in range(components.shape[0]):\n",
    "    subsampled_components[i] = reduce_vector_to_shape(components[i], len(wavel_axis))\n"
   ]
  },
  {
   "cell_type": "code",
   "execution_count": 28,
   "metadata": {},
   "outputs": [
    {
     "data": {
      "text/plain": [
       "<matplotlib.legend.Legend at 0x7fd278f58820>"
      ]
     },
     "execution_count": 28,
     "metadata": {},
     "output_type": "execute_result"
    }
   ],
   "source": [
    "SS_wavel = wavel[::4]\n",
    "subsampled_interpn = np.zeros((components.shape[0], len(SS_wavel)))\n",
    "\n",
    "for i in range(components.shape[0]):\n",
    "    subsampled_interpn[i] = components[i,::4]\n",
    "\n",
    "plt.figure()\n",
    "plt.plot(SS_wavel, subsampled_interpn[0], label='SS4')\n",
    "plt.plot(wavel, components[0], label='real')\n",
    "plt.legend()\n"
   ]
  },
  {
   "cell_type": "code",
   "execution_count": 29,
   "metadata": {},
   "outputs": [
    {
     "data": {
      "text/plain": [
       "<matplotlib.legend.Legend at 0x7fd27f53ccd0>"
      ]
     },
     "execution_count": 29,
     "metadata": {},
     "output_type": "execute_result"
    }
   ],
   "source": [
    "\n",
    "plt.plot(wavel, np.mean(components, axis=0)*scale_f, label='templates')\n",
    "plt.plot(wavel, np.mean(masked_array_fitlered_data_cube, axis=(1,2)), label='real data')\n",
    "# plt.plot(wavel_axis, np.mean(subsampled_components, axis=0)*scale_f, label='downsampled')\n",
    "\n",
    "plt.plot(SS_wavel, np.mean(subsampled_interpn, axis=0)*scale_f, label='downsampled interpn')\n",
    "# plt.plot(wavel_axis, np.mean(subsampled_fft, axis=0)*scale_fft, label='downsampled fft')\n",
    "\n",
    "plt.legend()"
   ]
  },
  {
   "cell_type": "code",
   "execution_count": 8,
   "metadata": {},
   "outputs": [
    {
     "name": "stdout",
     "output_type": "stream",
     "text": [
      "[ 4.88658932  4.88918537  4.89178204 ... 11.66524055 11.67246772\n",
      " 11.68150909]\n",
      "[ 4.9        4.9006095  4.901219  ... 11.6967325 11.698607  11.700483 ]\n"
     ]
    }
   ],
   "source": [
    "print(wavel_axis)\n",
    "print(wavel)"
   ]
  },
  {
   "cell_type": "code",
   "execution_count": 7,
   "metadata": {},
   "outputs": [],
   "source": [
    "np.save('/home/nmonnier/Data/JWST/Orion_bar/Fusion/Templates/nmf_orion_1ABC_2ABC_6_templates_SS4.npy', subsampled_interpn)\n",
    "np.save('/home/nmonnier/Data/JWST/Orion_bar/Fusion/Templates/wavel_axis_orion_1ABC_2ABC_6_templates_SS4.npy', SS_wavel)\n"
   ]
  }
 ],
 "metadata": {
  "kernelspec": {
   "display_name": "mrs",
   "language": "python",
   "name": "python3"
  },
  "language_info": {
   "codemirror_mode": {
    "name": "ipython",
    "version": 3
   },
   "file_extension": ".py",
   "mimetype": "text/x-python",
   "name": "python",
   "nbconvert_exporter": "python",
   "pygments_lexer": "ipython3",
   "version": "3.10.9"
  }
 },
 "nbformat": 4,
 "nbformat_minor": 2
}
