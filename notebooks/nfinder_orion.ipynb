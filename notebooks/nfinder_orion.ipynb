{
 "cells": [
  {
   "cell_type": "code",
   "execution_count": null,
   "metadata": {},
   "outputs": [
    {
     "ename": "",
     "evalue": "",
     "output_type": "error",
     "traceback": [
      "\u001b[1;31mRunning cells with 'nfinder' requires the ipykernel package.\n",
      "\u001b[1;31mRun the following command to install 'ipykernel' into the Python environment. \n",
      "\u001b[1;31mCommand: 'conda install -n nfinder ipykernel --update-deps --force-reinstall'"
     ]
    }
   ],
   "source": [
    "import numpy as np\n",
    "from astropy.io import fits\n",
    "from loguru import logger\n",
    "from pathlib import Path\n",
    "\n",
    "from surfh.Models import instru\n",
    "\n",
    "from sklearn.decomposition import PCA\n",
    "from sklearn.preprocessing import StandardScaler\n",
    "import matplotlib.pyplot as plt\n",
    "from scipy import ndimage\n",
    "\n",
    "from sklearn.decomposition import NMF\n",
    "from einops import rearrange\n",
    "\n",
    "from pysptools.eea import NFINDR\n",
    "from pysptools.abundance_maps import FCLS\n",
    "\n"
   ]
  },
  {
   "cell_type": "code",
   "execution_count": 7,
   "metadata": {},
   "outputs": [
    {
     "name": "stdout",
     "output_type": "stream",
     "text": [
      "(3438, 213, 109)\n",
      "(213, 109, 3438)\n"
     ]
    }
   ],
   "source": [
    "hdul = fits.open('/home/nmonnier/Data/JWST/Orion_bar/Scan/ChannelCube_ch1-shortmediumlong_s3d.fits')\n",
    "data_cube = hdul[1].data\n",
    "\n",
    "hdr = hdul[1].header\n",
    "wavel = (np.arange(hdr['NAXIS3']) +hdr['CRPIX3'] - 1) * hdr['CDELT3'] + hdr['CRVAL3']\n",
    "\n",
    "# replace Nan with 0\n",
    "data_cube[np.isnan(data_cube)] = 0\n",
    "data_cube[data_cube<0] = 0\n",
    "\n",
    "\n",
    "data_filtered = ndimage.median_filter(data_cube, size=13, axes=[0])\n",
    "print(data_filtered.shape)\n",
    "data = rearrange(data_filtered.copy(), 'L I J -> I J L') # from spectro data\n",
    "print(data.shape)\n"
   ]
  },
  {
   "cell_type": "code",
   "execution_count": 9,
   "metadata": {},
   "outputs": [
    {
     "ename": "ModuleNotFoundError",
     "evalue": "No module named 'scipy.linalg._flinalg'",
     "output_type": "error",
     "traceback": [
      "\u001b[0;31m---------------------------------------------------------------------------\u001b[0m",
      "\u001b[0;31mModuleNotFoundError\u001b[0m                       Traceback (most recent call last)",
      "Input \u001b[0;32mIn [9]\u001b[0m, in \u001b[0;36m<cell line: 2>\u001b[0;34m()\u001b[0m\n\u001b[1;32m      1\u001b[0m \u001b[38;5;28;01mimport\u001b[39;00m \u001b[38;5;21;01mscipy\u001b[39;00m\u001b[38;5;21;01m.\u001b[39;00m\u001b[38;5;21;01mlinalg\u001b[39;00m\n\u001b[0;32m----> 2\u001b[0m \u001b[38;5;28;01mimport\u001b[39;00m \u001b[38;5;21;01mscipy\u001b[39;00m\u001b[38;5;21;01m.\u001b[39;00m\u001b[38;5;21;01mlinalg\u001b[39;00m\u001b[38;5;21;01m.\u001b[39;00m\u001b[38;5;21;01m_flinalg\u001b[39;00m\n\u001b[1;32m      3\u001b[0m scipy\u001b[38;5;241m.\u001b[39mlinalg\u001b[38;5;241m.\u001b[39m_flinalg\n",
      "\u001b[0;31mModuleNotFoundError\u001b[0m: No module named 'scipy.linalg._flinalg'"
     ]
    }
   ],
   "source": [
    "import scipy.linalg\n",
    "import scipy.linalg._flinalg\n",
    "scipy.linalg._flinalg"
   ]
  },
  {
   "cell_type": "code",
   "execution_count": 8,
   "metadata": {},
   "outputs": [
    {
     "ename": "AttributeError",
     "evalue": "module 'scipy.linalg' has no attribute '_flinalg'",
     "output_type": "error",
     "traceback": [
      "\u001b[0;31m---------------------------------------------------------------------------\u001b[0m",
      "\u001b[0;31mAttributeError\u001b[0m                            Traceback (most recent call last)",
      "Input \u001b[0;32mIn [8]\u001b[0m, in \u001b[0;36m<cell line: 3>\u001b[0;34m()\u001b[0m\n\u001b[1;32m      1\u001b[0m nfindr \u001b[38;5;241m=\u001b[39m NFINDR()\n\u001b[0;32m----> 3\u001b[0m E \u001b[38;5;241m=\u001b[39m \u001b[43mnfindr\u001b[49m\u001b[38;5;241;43m.\u001b[39;49m\u001b[43mextract\u001b[49m\u001b[43m(\u001b[49m\u001b[43mdata\u001b[49m\u001b[43m,\u001b[49m\u001b[43m \u001b[49m\u001b[38;5;241;43m5\u001b[39;49m\u001b[43m)\u001b[49m\n",
      "File \u001b[0;32m~/anaconda3/envs/surfh/lib/python3.10/site-packages/pysptools/eea/inval.py:55\u001b[0m, in \u001b[0;36mExtractInputValidation2.<locals>.wrap.<locals>.checker\u001b[0;34m(self, M, q, transform, maxit, normalize, ATGP_init, mask)\u001b[0m\n\u001b[1;32m     53\u001b[0m check\u001b[38;5;241m.\u001b[39mdispatch(check\u001b[38;5;241m.\u001b[39mbool_type, method\u001b[38;5;241m.\u001b[39m\u001b[38;5;18m__name__\u001b[39m, ATGP_init, \u001b[38;5;124m'\u001b[39m\u001b[38;5;124mATGP_init\u001b[39m\u001b[38;5;124m'\u001b[39m)\n\u001b[1;32m     54\u001b[0m check\u001b[38;5;241m.\u001b[39mdispatch(check\u001b[38;5;241m.\u001b[39mmask_type, method\u001b[38;5;241m.\u001b[39m\u001b[38;5;18m__name__\u001b[39m, mask)\n\u001b[0;32m---> 55\u001b[0m \u001b[38;5;28;01mreturn\u001b[39;00m \u001b[43mmethod\u001b[49m\u001b[43m(\u001b[49m\u001b[38;5;28;43mself\u001b[39;49m\u001b[43m,\u001b[49m\u001b[43m \u001b[49m\u001b[43mM\u001b[49m\u001b[43m,\u001b[49m\u001b[43m \u001b[49m\u001b[43mq\u001b[49m\u001b[43m,\u001b[49m\u001b[43m \u001b[49m\u001b[43mtransform\u001b[49m\u001b[38;5;241;43m=\u001b[39;49m\u001b[43mtransform\u001b[49m\u001b[43m,\u001b[49m\u001b[43m \u001b[49m\u001b[43mmaxit\u001b[49m\u001b[38;5;241;43m=\u001b[39;49m\u001b[43mmaxit\u001b[49m\u001b[43m,\u001b[49m\u001b[43m \u001b[49m\u001b[43mnormalize\u001b[49m\u001b[38;5;241;43m=\u001b[39;49m\u001b[43mnormalize\u001b[49m\u001b[43m,\u001b[49m\u001b[43m \u001b[49m\u001b[43mATGP_init\u001b[49m\u001b[38;5;241;43m=\u001b[39;49m\u001b[43mATGP_init\u001b[49m\u001b[43m,\u001b[49m\u001b[43m \u001b[49m\u001b[43mmask\u001b[49m\u001b[38;5;241;43m=\u001b[39;49m\u001b[43mmask\u001b[49m\u001b[43m)\u001b[49m\n",
      "File \u001b[0;32m~/anaconda3/envs/surfh/lib/python3.10/site-packages/pysptools/eea/eea_int.py:346\u001b[0m, in \u001b[0;36mNFINDR.extract\u001b[0;34m(self, M, q, transform, maxit, normalize, ATGP_init, mask)\u001b[0m\n\u001b[1;32m    343\u001b[0m \u001b[38;5;28;01melse\u001b[39;00m:\n\u001b[1;32m    344\u001b[0m     cM \u001b[38;5;241m=\u001b[39m M\n\u001b[0;32m--> 346\u001b[0m \u001b[38;5;28mself\u001b[39m\u001b[38;5;241m.\u001b[39mE, \u001b[38;5;28mself\u001b[39m\u001b[38;5;241m.\u001b[39mEt, \u001b[38;5;28mself\u001b[39m\u001b[38;5;241m.\u001b[39midx, \u001b[38;5;28mself\u001b[39m\u001b[38;5;241m.\u001b[39mit \u001b[38;5;241m=\u001b[39m \u001b[43mnfindr\u001b[49m\u001b[38;5;241;43m.\u001b[39;49m\u001b[43mNFINDR\u001b[49m\u001b[43m(\u001b[49m\u001b[43mcM\u001b[49m\u001b[43m,\u001b[49m\u001b[43m \u001b[49m\u001b[43mq\u001b[49m\u001b[43m,\u001b[49m\u001b[43m \u001b[49m\u001b[43mtransform\u001b[49m\u001b[43m,\u001b[49m\u001b[43m \u001b[49m\u001b[43mmaxit\u001b[49m\u001b[43m,\u001b[49m\u001b[43m \u001b[49m\u001b[43mATGP_init\u001b[49m\u001b[43m)\u001b[49m\n\u001b[1;32m    347\u001b[0m \u001b[38;5;28mself\u001b[39m\u001b[38;5;241m.\u001b[39midx3D \u001b[38;5;241m=\u001b[39m [(i \u001b[38;5;241m%\u001b[39m \u001b[38;5;28mself\u001b[39m\u001b[38;5;241m.\u001b[39mw, i \u001b[38;5;241m/\u001b[39m\u001b[38;5;241m/\u001b[39m \u001b[38;5;28mself\u001b[39m\u001b[38;5;241m.\u001b[39mw) \u001b[38;5;28;01mfor\u001b[39;00m i \u001b[38;5;129;01min\u001b[39;00m \u001b[38;5;28mself\u001b[39m\u001b[38;5;241m.\u001b[39midx]\n\u001b[1;32m    348\u001b[0m \u001b[38;5;28;01mreturn\u001b[39;00m \u001b[38;5;28mself\u001b[39m\u001b[38;5;241m.\u001b[39mE\n",
      "File \u001b[0;32m~/anaconda3/envs/surfh/lib/python3.10/site-packages/pysptools/eea/nfindr.py:106\u001b[0m, in \u001b[0;36mNFINDR\u001b[0;34m(data, q, transform, maxit, ATGP_init)\u001b[0m\n\u001b[1;32m    104\u001b[0m \u001b[38;5;28;01mfor\u001b[39;00m i \u001b[38;5;129;01min\u001b[39;00m \u001b[38;5;28mrange\u001b[39m(nsamples):\n\u001b[1;32m    105\u001b[0m     TestMatrix[\u001b[38;5;241m1\u001b[39m:q, k] \u001b[38;5;241m=\u001b[39m transform[i]\n\u001b[0;32m--> 106\u001b[0m     volume \u001b[38;5;241m=\u001b[39m math\u001b[38;5;241m.\u001b[39mfabs(\u001b[43msp\u001b[49m\u001b[38;5;241;43m.\u001b[39;49m\u001b[43mlinalg\u001b[49m\u001b[38;5;241;43m.\u001b[39;49m\u001b[43m_flinalg\u001b[49m\u001b[38;5;241m.\u001b[39msdet_c(TestMatrix)[\u001b[38;5;241m0\u001b[39m])\n\u001b[1;32m    107\u001b[0m     \u001b[38;5;28;01mif\u001b[39;00m volume \u001b[38;5;241m>\u001b[39m actualVolume:\n\u001b[1;32m    108\u001b[0m         actualVolume \u001b[38;5;241m=\u001b[39m volume\n",
      "\u001b[0;31mAttributeError\u001b[0m: module 'scipy.linalg' has no attribute '_flinalg'"
     ]
    }
   ],
   "source": [
    "nfindr = NFINDR()\n",
    "\n",
    "E = nfindr.extract(data, 5) # img is of shape (H,W,C), extract() will output 5 spectra\n",
    "\n"
   ]
  }
 ],
 "metadata": {
  "kernelspec": {
   "display_name": "surfh",
   "language": "python",
   "name": "python3"
  },
  "language_info": {
   "codemirror_mode": {
    "name": "ipython",
    "version": 3
   },
   "file_extension": ".py",
   "mimetype": "text/x-python",
   "name": "python",
   "nbconvert_exporter": "python",
   "pygments_lexer": "ipython3",
   "version": "3.6.9"
  }
 },
 "nbformat": 4,
 "nbformat_minor": 2
}
