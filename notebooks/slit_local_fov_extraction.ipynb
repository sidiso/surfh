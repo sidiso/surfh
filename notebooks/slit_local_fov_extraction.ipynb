{
 "cells": [
  {
   "cell_type": "code",
   "execution_count": 2,
   "metadata": {},
   "outputs": [],
   "source": [
    "import matplotlib.pyplot as plt\n",
    "import numpy as np\n",
    "\n",
    "from scipy.signal import convolve2d as conv2\n",
    "from astropy.io import fits\n",
    "from astropy import units as u\n",
    "from astropy.coordinates import Angle\n",
    "import udft\n",
    "\n",
    "from surfh.Simulation import simulation_data\n",
    "from surfh.DottestModels import MCMO_SigRLSCT_Model\n",
    "from surfh.ToolsDir import utils\n",
    "\n",
    "from surfh.Simulation import fusion_CT\n",
    "from surfh.Models import instru\n",
    "from surfh.ToolsDir import fusion_mixing\n",
    "\n",
    "from surfh.Models import wavelength_mrs, realmiri\n",
    "\n",
    "import pathlib"
   ]
  },
  {
   "cell_type": "code",
   "execution_count": 3,
   "metadata": {},
   "outputs": [
    {
     "name": "stdout",
     "output_type": "stream",
     "text": [
      "2\n"
     ]
    }
   ],
   "source": [
    "\"\"\"\n",
    "Create Model and simulation\n",
    "\"\"\"\n",
    "origin_alpha_axis, origin_beta_axis, wavel_axis, spsf, maps, templates = simulation_data.get_simulation_data(4, 0, '../cube_orion/') # subsampling to reduce dim of maps\n",
    "\n",
    "wavelength_1c = wavelength_mrs.get_mrs_wavelength('1c')"
   ]
  },
  {
   "cell_type": "code",
   "execution_count": 4,
   "metadata": {},
   "outputs": [
    {
     "name": "stderr",
     "output_type": "stream",
     "text": [
      "2024-08-09 10:57:20.058 | INFO     | surfh.Models.instru:pix:684 - IFU. 1C pixelized to 6.9e-06\n"
     ]
    },
    {
     "name": "stdout",
     "output_type": "stream",
     "text": [
      "83.98088399122913 -5.503855979171915\n",
      "83.83536208333332 -5.41972777777778\n"
     ]
    }
   ],
   "source": [
    "with fits.open('/home/nmonnier/Data/JWST/Orion_bar/Stage_2/jw01288002001_0211f_00001_mirifushort_cal.fits') as hdul:\n",
    "    hdr = hdul[1].header\n",
    "    targ_ra  = hdr['RA_V1']\n",
    "    targ_dec = hdr['DEC_V1']\n",
    "\n",
    "\n",
    "orgin_target = instru.Coord(targ_ra, targ_dec)\n",
    "print(targ_ra, targ_dec)\n",
    "\n",
    "# ch1c = instru.IFU(\n",
    "#     fov=instru.FOV(3.2/3600, 3.7/3600, origin=orgin_target, angle=8.2),\n",
    "#     det_pix_size=0.196,\n",
    "#     n_slit=21,\n",
    "#     w_blur=None,\n",
    "#     pce=None,\n",
    "#     wavel_axis=wavelength_1c,\n",
    "#     name=\"1C\",\n",
    "# )\n",
    "ch1c, targ_ra, targ_dec = realmiri.get_IFU('/home/nmonnier/Data/JWST/Orion_bar/Stage_3/ChannelCube_ch1-long_s3d.fits')\n",
    "step = 0.025\n",
    "step_angle = Angle(step, u.arcsec).degree\n",
    "ch1c_pix = ch1c.pix(step_angle)\n",
    "print(targ_ra, targ_dec)"
   ]
  },
  {
   "cell_type": "code",
   "execution_count": 10,
   "metadata": {},
   "outputs": [
    {
     "name": "stderr",
     "output_type": "stream",
     "text": [
      "2024-08-09 16:33:10.930 | INFO     | surfh.Models.instru:pix:684 - IFU. 1C pixelized to 6.9e-06\n"
     ]
    },
    {
     "name": "stdout",
     "output_type": "stream",
     "text": [
      "step =  0.025\n",
      "[0.196]\n"
     ]
    },
    {
     "name": "stderr",
     "output_type": "stream",
     "text": [
      "2024-08-09 16:33:12.051583: W external/xla/xla/service/gpu/nvptx_compiler.cc:718] The NVIDIA driver's CUDA version is 12.2 which is older than the ptxas CUDA version (12.4.131). Because the driver is older than the ptxas version, XLA is disabling parallel compilation, which may slow down compilation. You should update your NVIDIA driver or use the NVIDIA-provided CUDA forward compatibility packages.\n"
     ]
    }
   ],
   "source": [
    "# Super resolution factor (in alpha dim) \n",
    "super_resolution_factor = instru.get_srf(\n",
    "    [ch1c.det_pix_size],\n",
    "    step_angle*3600, # Conversion in arcsec\n",
    ")\n",
    "\n",
    "alpha_axis = origin_alpha_axis - np.mean(origin_alpha_axis) + targ_ra\n",
    "beta_axis = origin_beta_axis - np.mean(origin_beta_axis) + targ_dec\n",
    "pointings = instru.CoordList([orgin_target]).pix(step_angle)\n",
    "from surfh.DottestModels import MCMO_SigRLSCT_Channel_Model\n",
    "# Channel \n",
    "channels = [\n",
    "            MCMO_SigRLSCT_Channel_Model.Channel(\n",
    "                ch1c,\n",
    "                alpha_axis,\n",
    "                beta_axis,\n",
    "                wavelength_1c,\n",
    "                super_resolution_factor[0],\n",
    "                pointings,\n",
    "                step_angle\n",
    "            )\n",
    "        ]"
   ]
  },
  {
   "cell_type": "code",
   "execution_count": 11,
   "metadata": {},
   "outputs": [
    {
     "name": "stdout",
     "output_type": "stream",
     "text": [
      "Slit Shape channel 1C : (1, 21, 1400, 19)\n",
      "0.0008888888888888889\n",
      "Shape of Channel 1C output is \n"
     ]
    }
   ],
   "source": [
    "print(f'Slit Shape channel 1C : {channels[0].oshape}')\n",
    "print(ch1c.slit_fov[1].local.alpha_width)\n",
    "print(f'Shape of Channel 1C output is ')"
   ]
  }
 ],
 "metadata": {
  "kernelspec": {
   "display_name": "mrs",
   "language": "python",
   "name": "python3"
  },
  "language_info": {
   "codemirror_mode": {
    "name": "ipython",
    "version": 3
   },
   "file_extension": ".py",
   "mimetype": "text/x-python",
   "name": "python",
   "nbconvert_exporter": "python",
   "pygments_lexer": "ipython3",
   "version": "3.10.9"
  }
 },
 "nbformat": 4,
 "nbformat_minor": 2
}
